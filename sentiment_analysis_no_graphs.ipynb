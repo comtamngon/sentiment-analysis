{
 "cells": [
  {
   "cell_type": "code",
   "execution_count": null,
   "id": "e6e85618-62f1-4419-ac73-1686728707a8",
   "metadata": {},
   "outputs": [],
   "source": [
    "import nltk\n",
    "from nltk import word_tokenize, sent_tokenize\n",
    "from nltk.book import *\n",
    "from nltk.corpus import stopwords\n",
    "from nltk import pos_tag\n",
    "\n",
    "\n",
    "from collections import Counter\n",
    "\n",
    "import contractions\n",
    "\n",
    "import numpy as np \n",
    "import pandas as pd \n",
    "import matplotlib.pyplot as plt \n",
    "from scipy.interpolate import UnivariateSpline"
   ]
  },
  {
   "cell_type": "markdown",
   "id": "be0a2076-9ef2-4d1f-b81e-ab100f5ff892",
   "metadata": {},
   "source": [
    "# <span style='color:Orange'>I. Clean text</span> "
   ]
  },
  {
   "cell_type": "code",
   "execution_count": null,
   "id": "9d1577db-912a-4900-bdc3-c5d2cf50c08b",
   "metadata": {},
   "outputs": [],
   "source": [
    "def clean_text(text):\n",
    "    nconts_text = contractions.fix(text)\n",
    "    clean = nconts_text.replace(\"_\", \"\")\n",
    "    return clean"
   ]
  },
  {
   "cell_type": "code",
   "execution_count": null,
   "id": "741e3e28-9d55-4c3a-9f5b-f88286671247",
   "metadata": {},
   "outputs": [],
   "source": [
    "def text_stats(tokens, text):\n",
    "    num_tokens = len(tokens)\n",
    "    num_types = len(set(tokens))\n",
    "    sent_av = num_tokens/len(sent_tokenize(text))\n",
    "\n",
    "    print(f\"The number of tokens in this text is {num_tokens}.\",\n",
    "         f\"\\nThe number of types is {num_types}.\", \n",
    "         f\"\\nThe TTR (type-token ratio) of this text is {num_types/num_tokens}.\",\n",
    "         f\"\\nThe average sentence length is {sent_av}.\")"
   ]
  },
  {
   "cell_type": "code",
   "execution_count": null,
   "id": "9f7a0705-2b19-4718-b748-5fad3f6ebc40",
   "metadata": {},
   "outputs": [],
   "source": [
    "def custom_tokenize(text):\n",
    "    tokens = word_tokenize(text)\n",
    "    words = [token.lower() for token in tokens if token.isalnum()]\n",
    "    return words"
   ]
  },
  {
   "cell_type": "code",
   "execution_count": null,
   "id": "61e81648-4067-4584-a289-9bc4e5601234",
   "metadata": {},
   "outputs": [],
   "source": [
    "def custom_dispersion(tokens, words):\n",
    "    for word in words:\n",
    "        for ele, token in enumerate(tokens):\n",
    "            if token == word:\n",
    "                plt.plot(ele, word, 'o', color = 'b', markersize = 3)\n",
    "                plt.title('Dispersion Plot of Words')\n",
    "                plt.xlabel(\"Length of Text in Words\")\n",
    "                plt.ylabel(\"Key Words\")\n",
    "                \n",
    "                plt.ylim(-1, len(words))"
   ]
  },
  {
   "cell_type": "code",
   "execution_count": null,
   "id": "289365b9-7356-40fa-b3ec-dbfaa0428e48",
   "metadata": {},
   "outputs": [],
   "source": [
    "def open_file(path):\n",
    "    with open(path, \"r\", encoding = \"utf-8\") as file:\n",
    "        text = file.read()\n",
    "        return text"
   ]
  },
  {
   "cell_type": "code",
   "execution_count": null,
   "id": "f804f3a8-d0bb-4ddd-9524-c7d03c0e5995",
   "metadata": {},
   "outputs": [],
   "source": [
    "orange = open_file(\"C:/Users/Hien Bach/text_analysis_jupyter/data/my_sweet_orange_tree.txt\")"
   ]
  },
  {
   "cell_type": "code",
   "execution_count": null,
   "id": "206ca69a-dc54-4781-9024-e4f44b395ed9",
   "metadata": {},
   "outputs": [],
   "source": [
    "clean_orange = clean_text(orange)"
   ]
  },
  {
   "cell_type": "code",
   "execution_count": null,
   "id": "8a35668f-f6aa-4bfc-b494-feed85aaadb9",
   "metadata": {},
   "outputs": [],
   "source": [
    "tokens_orange = custom_tokenize(orange)"
   ]
  },
  {
   "cell_type": "code",
   "execution_count": null,
   "id": "ec06c39b-9b28-4228-96a1-8bc207613760",
   "metadata": {},
   "outputs": [],
   "source": [
    "num_tokens = len(tokens_orange)\n",
    "num_types =  len(set(tokens_orange))\n",
    "sent_av = num_tokens/len(sent_tokenize(orange))\n",
    "print(num_tokens)\n",
    "print(num_types)\n",
    "print(sent_av)"
   ]
  },
  {
   "cell_type": "code",
   "execution_count": null,
   "id": "f21ca8aa-c619-4375-9cbc-2fee3d6264bf",
   "metadata": {},
   "outputs": [],
   "source": [
    "novel =nltk.Text(tokens_orange)"
   ]
  },
  {
   "cell_type": "markdown",
   "id": "1a463dee-57f0-49d6-a375-5de6f2b6805e",
   "metadata": {},
   "source": [
    "# <span style='color:Orange'>II. Dispersion Plot</span>"
   ]
  },
  {
   "cell_type": "code",
   "execution_count": null,
   "id": "d0c552e5-bbab-4cf3-b8bc-8c4274ecc28d",
   "metadata": {},
   "outputs": [],
   "source": [
    "novel.dispersion_plot([\"portuguese\", \"love\", \"pain\", \"hurt\", \"pinkie\"])"
   ]
  },
  {
   "cell_type": "code",
   "execution_count": null,
   "id": "12a0bd7a-4e12-4043-8c30-07e821efd34c",
   "metadata": {},
   "outputs": [],
   "source": [
    "custom_dispersion(novel,[\"portuguese\", \"love\", \"pain\", \"hurt\", \"pinkie\", \"humiliation\"] ) "
   ]
  },
  {
   "cell_type": "code",
   "execution_count": null,
   "id": "fb09bae8-589b-44c5-bc92-98e91a630e9a",
   "metadata": {},
   "outputs": [],
   "source": [
    "custom_dispersion(novel,[\"father\", \"portuga\", \"portuguese\", \"totoca\"]) \n",
    "plt.savefig('dispersion_plot.png', dpi=300, bbox_inches='tight')"
   ]
  },
  {
   "cell_type": "markdown",
   "id": "8da59a85-778f-46cd-8460-2587e56fe2ee",
   "metadata": {},
   "source": [
    "# <span style='color:Orange'>III. Word Frequency</span>"
   ]
  },
  {
   "cell_type": "code",
   "execution_count": null,
   "id": "3a3fd639-e3a0-440a-80bf-ef9093049448",
   "metadata": {},
   "outputs": [],
   "source": [
    "FreqDist(novel).most_common(20)"
   ]
  },
  {
   "cell_type": "code",
   "execution_count": null,
   "id": "2c7443ff-b340-494a-a594-db15a3842fb9",
   "metadata": {},
   "outputs": [],
   "source": [
    "unfiltered = FreqDist(novel).most_common(100)\n",
    "unfiltered[15]"
   ]
  },
  {
   "cell_type": "code",
   "execution_count": null,
   "id": "abd46185-2709-4586-9ee2-1502b67c0818",
   "metadata": {},
   "outputs": [],
   "source": [
    "words, counts = zip(*unfiltered)\n",
    "\n",
    "plt.figure(figsize=(12, 6))\n",
    "plt.plot(words, counts, marker='o', linestyle='-', color='b', label='Word Counts')\n",
    "plt.xlabel('Words')\n",
    "plt.ylabel('Frequency')\n",
    "plt.title('Word Frequencies')\n",
    "plt.xticks(rotation=45, ha='right')\n",
    "plt.legend()\n",
    "\n",
    "plt.show()"
   ]
  },
  {
   "cell_type": "code",
   "execution_count": null,
   "id": "a5206f6d-e513-43dc-b7c1-2abdf4ceab16",
   "metadata": {},
   "outputs": [],
   "source": [
    "stop_words = stopwords.words('english')\n",
    "filtered_words = [w for w in novel if w not in stop_words]\n",
    "FreqDist(filtered_words).most_common(50)\n",
    "top_fifty = FreqDist(filtered_words).most_common(50)\n",
    "\n",
    "words, counts = zip(*top_fifty)\n",
    "\n",
    "plt.figure(figsize=(12, 6))\n",
    "plt.bar(words, counts, color='skyblue')\n",
    "plt.xlabel('Words')\n",
    "plt.ylabel('Frequency')\n",
    "plt.title('Top Words and Their Frequencies')\n",
    "plt.xticks(rotation=45, ha='right')\n",
    "plt.show()"
   ]
  },
  {
   "cell_type": "code",
   "execution_count": null,
   "id": "98f6896f-3719-446f-b401-98f50fad898d",
   "metadata": {},
   "outputs": [],
   "source": [
    "lst = [\"pinkie\", \"glória\", \"seu\", \"totoca\", \"zezé\"]\n",
    "custom_sw = stopwords.words(\"portuguese\")\n",
    "\n",
    "custom_sw.extend(lst)\n",
    "print(custom_sw)"
   ]
  },
  {
   "cell_type": "code",
   "execution_count": null,
   "id": "73ee7ed2-951a-4cbe-ad16-7c81fda0fefa",
   "metadata": {},
   "outputs": [],
   "source": [
    "custom_filtered_words = [w for w in novel if w not in custom_sw]\n",
    "\n",
    "custom_top_fifty = FreqDist(custom_filtered_words).most_common(50)\n",
    "\n",
    "words, counts = zip(*custom_top_fifty)\n",
    "\n",
    "plt.figure(figsize=(12, 6))\n",
    "plt.bar(words, counts, color='skyblue')\n",
    "plt.xlabel('Words')\n",
    "plt.ylabel('Frequency')\n",
    "plt.title('Top Words and Their Frequencies')\n",
    "plt.xticks(rotation=45, ha='right')\n",
    "plt.show()"
   ]
  },
  {
   "cell_type": "code",
   "execution_count": null,
   "id": "fd49bcbc-0b96-4159-97dc-f8c5d93332b4",
   "metadata": {},
   "outputs": [],
   "source": [
    "custom_filtered_words = [w for w in novel if w not in custom_sw and len(w) > 10]\n",
    "\n",
    "custom_top_fifty = FreqDist(custom_filtered_words).most_common(50)\n",
    "\n",
    "words, counts = zip(*custom_top_fifty)\n",
    "\n",
    "plt.figure(figsize=(12, 6))\n",
    "plt.bar(words, counts, color='skyblue')\n",
    "plt.xlabel('Words')\n",
    "plt.ylabel('Frequency')\n",
    "plt.title('Top Words and Their Frequencies')\n",
    "plt.xticks(rotation=45, ha='right')\n",
    "plt.show()"
   ]
  },
  {
   "cell_type": "markdown",
   "id": "506191ac-4333-4997-957a-73a4eb44c44f",
   "metadata": {},
   "source": [
    "# <span style='color:Orange'>IV. TTR and MATTR</span>"
   ]
  },
  {
   "cell_type": "code",
   "execution_count": null,
   "id": "0aec453f-dc39-4378-8612-c57724086068",
   "metadata": {},
   "outputs": [],
   "source": [
    "def ttr(seg_words):\n",
    "    types = set(seg_words)\n",
    "    ttr = len(types)/len(seg_words)\n",
    "    return(ttr)"
   ]
  },
  {
   "cell_type": "code",
   "execution_count": null,
   "id": "102ef3a9-9aea-4c9e-8341-0ee4c0dff4cd",
   "metadata": {},
   "outputs": [],
   "source": [
    "def averge_word_length(segment):\n",
    "    total_characters = 0\n",
    "    for word in segment:\n",
    "        total_characters = total_characters + len(word)\n",
    "    awl = total_characters/len(segment)\n",
    "    return(awl)"
   ]
  },
  {
   "cell_type": "code",
   "execution_count": null,
   "id": "befd9d71-f0fe-4489-afc2-c861bb73f398",
   "metadata": {},
   "outputs": [],
   "source": [
    "def pos_counts(tagged_segment):\n",
    "    the_count = the_count = (Counter(tag for x,tag in tagged_segment))\n",
    "    nouns = the_count[\"NOUN\"]\n",
    "    verbs = the_count[\"VERB\"]\n",
    "    adjs = the_count[\"ADJ\"]\n",
    "    advs = the_count[\"ADV\"]\n",
    "    return nouns, verbs, adjs, advs"
   ]
  },
  {
   "cell_type": "code",
   "execution_count": null,
   "id": "dc6ddd2f-b3d4-46f2-b14e-052407578582",
   "metadata": {},
   "outputs": [],
   "source": [
    "def mattr(tokens_tags):\n",
    "    window = 3000\n",
    "    end = len(tokens_tags)-window\n",
    "    mattr = []\n",
    "\n",
    "    for item in range (0, end, 1000):\n",
    "        if item < end:\n",
    "            tagged_seg = tokens_tags[item: item + window]\n",
    "            seg_words = [item[0] for item in tagged_seg]\n",
    "            sttr = ttr(seg_words)\n",
    "            sawl = averge_word_length(seg_words)\n",
    "            percent = 100 * (item + window)/len(seg_words)\n",
    "            nouns, verbs, adjs, advs = pos_counts(tagged_seg)\n",
    "            seg_lex_div = (nouns + verbs + adjs + advs)/ len(seg_words)\n",
    "            mattr.append((item, item+window, percent, sttr, sawl, nouns, verbs, adjs, advs, seg_lex_div))\n",
    "    return mattr"
   ]
  },
  {
   "cell_type": "code",
   "execution_count": null,
   "id": "66353df9-466f-414f-811e-256ff574c214",
   "metadata": {},
   "outputs": [],
   "source": [
    "tags_novel = nltk.pos_tag(tokens_orange, tagset = \"universal\")\n",
    "\n",
    "text_stats(tokens_orange, clean_orange)"
   ]
  },
  {
   "cell_type": "code",
   "execution_count": null,
   "id": "d5873532-e3e3-46a1-a9af-79fefbecc14f",
   "metadata": {},
   "outputs": [],
   "source": [
    "mattr_novel = mattr(tags_novel)\n",
    "\n",
    "len(mattr_novel)"
   ]
  },
  {
   "cell_type": "code",
   "execution_count": null,
   "id": "559ae81b-880e-48a6-afc1-a83f18949dfc",
   "metadata": {},
   "outputs": [],
   "source": [
    "df_novel = pd.DataFrame(mattr_novel, columns = (\"window_start\", \"window_end\", \"percent\", \"MATTR\", \"average_word_length\", \"nouns\", \"verbs\", \"adjectives\", \"adverbs\", \"lexical_diversity\"))\n",
    "\n",
    "df_novel"
   ]
  },
  {
   "cell_type": "markdown",
   "id": "043f7292-79fe-4a9f-92cd-c8682cf947dd",
   "metadata": {},
   "source": [
    "# <span style='color:Orange'>V. MATTR & Lexical diversity in graph</span>"
   ]
  },
  {
   "cell_type": "code",
   "execution_count": null,
   "id": "e5089bfb-e23f-4cfe-adb7-a5800d542581",
   "metadata": {},
   "outputs": [],
   "source": [
    "average = sum(df_novel[\"MATTR\"])/len(df_novel)"
   ]
  },
  {
   "cell_type": "markdown",
   "id": "66334f68-688e-49c8-b3a9-2df394c74662",
   "metadata": {},
   "source": [
    "## <span style='color:green'>With labels</span>"
   ]
  },
  {
   "cell_type": "code",
   "execution_count": null,
   "id": "40f441d0-f328-4f04-aaa2-7349e89fc4c6",
   "metadata": {},
   "outputs": [],
   "source": [
    "plt.plot(df_novel[\"percent\"], df_novel[\"MATTR\"], label=\"MATTR\")\n",
    "plt.plot(df_novel[\"percent\"], df_novel[\"lexical_diversity\"]*0.43, label=\"lexical diversity\")\n",
    "plt.axhline(y = average, color = 'r', linestyle = '--') \n",
    "plt.legend()"
   ]
  },
  {
   "cell_type": "markdown",
   "id": "f068ed78-bd09-4ffe-8cee-2795268cb949",
   "metadata": {},
   "source": [
    "## <span style='color:green'>Without labels</span>"
   ]
  },
  {
   "cell_type": "code",
   "execution_count": null,
   "id": "ba243482-1b57-4b9c-95b2-7e806a9fd674",
   "metadata": {},
   "outputs": [],
   "source": [
    "plt.plot(df_novel[\"percent\"], df_novel[\"MATTR\"]*14.5, df_novel[\"percent\"], df_novel[\"average_word_length\"])"
   ]
  },
  {
   "cell_type": "code",
   "execution_count": null,
   "id": "84884b49-f6f7-49e8-82d1-51df757955d0",
   "metadata": {},
   "outputs": [],
   "source": [
    "plt.plot(df_novel[\"percent\"], df_novel[\"nouns\"], label=\"nouns\")\n",
    "plt.plot(df_novel[\"percent\"], df_novel[\"verbs\"], label=\"verbs\")\n",
    "plt.plot(df_novel[\"percent\"], df_novel[\"adjectives\"]*3.2, label=\"adjectives\" )\n",
    "plt.legend()"
   ]
  },
  {
   "cell_type": "code",
   "execution_count": null,
   "id": "6bb517da-59b7-4c55-85b1-2bfd6595d9e3",
   "metadata": {},
   "outputs": [],
   "source": [
    "plt.plot(df_novel[\"percent\"], df_novel[\"nouns\"], color = \"red\", linestyle = \"--\", label = \"nouns\")\n",
    "plt.plot(df_novel[\"percent\"], df_novel[\"adjectives\"]*2.7, label = \"adjectives\")\n",
    "plt.legend()"
   ]
  },
  {
   "cell_type": "code",
   "execution_count": null,
   "id": "df4a3139-ba98-48e1-bd66-05e9b9e45ec9",
   "metadata": {},
   "outputs": [],
   "source": [
    "plt.plot(df_novel[\"percent\"], df_novel[\"nouns\"], label = \"nouns\")\n",
    "plt.plot(df_novel[\"percent\"], df_novel[\"verbs\"], label = \"verbs\")\n",
    "plt.legend()"
   ]
  },
  {
   "cell_type": "code",
   "execution_count": null,
   "id": "1808f5b8-4475-4108-9e8c-9031252a535c",
   "metadata": {},
   "outputs": [],
   "source": [
    "plt.plot(df_novel[\"percent\"], df_novel[\"nouns\"], label=\"nouns\")\n",
    "plt.plot(df_novel[\"percent\"], df_novel[\"verbs\"], label=\"verbs\")\n",
    "plt.plot(df_novel[\"percent\"], df_novel[\"MATTR\"]*2300, label=\"MATTR\")\n",
    "plt.legend()"
   ]
  },
  {
   "cell_type": "markdown",
   "id": "4d06986c-410f-4b59-8932-2ee9e78e5d6e",
   "metadata": {},
   "source": [
    "## <span style='color:green'>Smallest and Largest</span>"
   ]
  },
  {
   "cell_type": "code",
   "execution_count": null,
   "id": "fddc03f6-2a16-4cba-beb9-5b06d4d9908b",
   "metadata": {},
   "outputs": [],
   "source": [
    "smallest = df_novel.nsmallest(10, \"MATTR\")\n",
    "smallest"
   ]
  },
  {
   "cell_type": "code",
   "execution_count": null,
   "id": "6881d02f-68c7-48f6-a75f-f0675e8e91ca",
   "metadata": {},
   "outputs": [],
   "source": [
    "smallest.sort_values(\"window_start\")"
   ]
  },
  {
   "cell_type": "code",
   "execution_count": null,
   "id": "0852144e-0e59-40a6-8427-a330388a0e27",
   "metadata": {},
   "outputs": [],
   "source": [
    "largest = df_novel.nlargest(10, \"MATTR\")\n",
    "largest"
   ]
  },
  {
   "cell_type": "code",
   "execution_count": null,
   "id": "f1859096-233b-408f-b492-a3f014069e98",
   "metadata": {},
   "outputs": [],
   "source": [
    "largest.sort_values(\"window_start\")"
   ]
  },
  {
   "cell_type": "code",
   "execution_count": null,
   "id": "3eaeefde-3b72-49ba-9a70-deb491fd5e7c",
   "metadata": {},
   "outputs": [],
   "source": [
    "print(tokens_orange[21000:24000])"
   ]
  },
  {
   "cell_type": "markdown",
   "id": "857ebc86-4c33-43b5-b6a0-664007774341",
   "metadata": {},
   "source": [
    "## <span style='color:green'>Smallest and Largest in graphs</span>"
   ]
  },
  {
   "cell_type": "code",
   "execution_count": null,
   "id": "609c7f62-5dff-4e23-851c-b571e352772a",
   "metadata": {},
   "outputs": [],
   "source": [
    "plt.plot (df_novel[\"percent\"], df_novel[\"MATTR\"])\n",
    "plt.axhline(y = average, color = 'r', linestyle = '--') \n",
    "plt.plot(largest[\"percent\"], largest[\"MATTR\"], 'o', color='green')\n",
    "plt.plot(smallest[\"percent\"], smallest[\"MATTR\"], 'o', color='orange')"
   ]
  },
  {
   "cell_type": "code",
   "execution_count": null,
   "id": "3977c698-8494-43bf-965c-f5c8b44a03e4",
   "metadata": {},
   "outputs": [],
   "source": [
    "nouns_largest = df_novel.nlargest(10, \"nouns\")\n",
    "nouns_largest"
   ]
  },
  {
   "cell_type": "code",
   "execution_count": null,
   "id": "96055134-b106-40eb-bd49-790f4cea6b6a",
   "metadata": {},
   "outputs": [],
   "source": [
    "nouns_smallest = df_novel.nsmallest(10, \"nouns\")\n",
    "nouns_smallest"
   ]
  },
  {
   "cell_type": "code",
   "execution_count": null,
   "id": "ff5b0e56-8960-4b8b-b1d6-b2e8dd2ba47e",
   "metadata": {},
   "outputs": [],
   "source": [
    "adjectives_smallest = df_novel.nsmallest(10, \"adjectives\")\n",
    "adjectives_largest = df_novel.nlargest(10, \"adjectives\")"
   ]
  },
  {
   "cell_type": "code",
   "execution_count": null,
   "id": "281cbace-5de2-47c3-9a06-52eaaffe21b4",
   "metadata": {},
   "outputs": [],
   "source": [
    "plt.plot (df_novel[\"percent\"], df_novel[\"MATTR\"])\n",
    "plt.axhline(y = average, color = 'r', linestyle = '--') \n",
    "plt.plot(largest[\"percent\"], largest[\"MATTR\"], 'o', color='green')\n",
    "plt.plot(smallest[\"percent\"], smallest[\"MATTR\"], 'o', color='orange')\n",
    "#plt.plot(nouns_largest[\"percent\"], largest[\"MATTR\"], 'o', color='lightgreen')\n",
    "#plt.plot(nouns_smallest[\"percent\"], smallest[\"MATTR\"], 'o', color='yellow')\n",
    "plt.plot(adjectives_smallest[\"percent\"],smallest[\"MATTR\"], 'o', color='purple')\n",
    "plt.plot(adjectives_largest[\"percent\"],largest[\"MATTR\"], 'o', color='red')"
   ]
  },
  {
   "cell_type": "markdown",
   "id": "1a4fe8e0-dd4c-40e9-98f7-abfed49e1aae",
   "metadata": {},
   "source": [
    "# <span style='color:Orange'>VI. Sentiment Analysis</span>"
   ]
  },
  {
   "cell_type": "code",
   "execution_count": null,
   "id": "086d3477-49b2-4e20-9eb4-33ca0d50044a",
   "metadata": {},
   "outputs": [],
   "source": [
    "def bing_sent(words):\n",
    "\n",
    "    score = 0\n",
    "    pos = 0\n",
    "    neg = 0\n",
    "\n",
    "    for word in words:\n",
    "        matching_tuples = [t for t in bing_result_list if t[0] == word]\n",
    "        if matching_tuples:\n",
    "            if matching_tuples[0][1] == \"negative\":\n",
    "                score -= 1\n",
    "                neg -= 1\n",
    "            if matching_tuples[0][1] == \"positive\":\n",
    "                score += 1\n",
    "                pos += 1\n",
    "    return (pos, neg, score)"
   ]
  },
  {
   "cell_type": "code",
   "execution_count": null,
   "id": "921c8497-d24b-4bfb-8792-fa834954e975",
   "metadata": {},
   "outputs": [],
   "source": [
    "def afinn_sent(words):\n",
    "\n",
    "    afinn_score = 0\n",
    "\n",
    "    for word in words:\n",
    "        matching_tuples = [t for t in afinn_result_list if t[0] == word]\n",
    "\n",
    "        if matching_tuples:\n",
    "            afinn_score = afinn_score+matching_tuples[0][1]\n",
    "    return (afinn_score)"
   ]
  },
  {
   "cell_type": "code",
   "execution_count": null,
   "id": "86ef7dd1-2f34-4d30-b3ad-f2e823211175",
   "metadata": {},
   "outputs": [],
   "source": [
    "def nrc_sent(words):\n",
    "    \n",
    "    categories = [\"fear\", \"anger\", \"trust\", \"sadness\", \"disgust\", \"anticipation\", \"joy\", \"surprise\", \"negative\", \"positive\"]\n",
    "\n",
    "    nrc_scores = []\n",
    "\n",
    "    for category in categories:\n",
    "    \n",
    "        category_score = 0 \n",
    "        nrc_result_list = [(row[\"word\"], row[\"sentiment\"]) for index, row in nrc_df[nrc_df[\"sentiment\"] == category].iterrows()]                   \n",
    "    \n",
    "        for word in words:\n",
    "        \n",
    "            matching_tuples = [t for t in nrc_result_list if t[0] == word]\n",
    "        \n",
    "            if matching_tuples:\n",
    "                category_score += 1\n",
    "        nrc_scores.append(category_score)\n",
    "        \n",
    "    return (nrc_scores)"
   ]
  },
  {
   "cell_type": "code",
   "execution_count": null,
   "id": "42775435-6f05-4f6b-9f38-bff0eb98fa16",
   "metadata": {},
   "outputs": [],
   "source": [
    "def segment_sentiments(words, num_segments, lexicon):\n",
    "    # Calculate the base length of each segment\n",
    "    base_segment_length = len(words) // num_segments\n",
    "\n",
    "    # Calculate the number of extra items\n",
    "    extra_items = len(words) % num_segments\n",
    "\n",
    "    # Initialize the starting index for each segment\n",
    "    start_index = 0\n",
    "\n",
    "    # Initialize the list to store segments\n",
    "    segments = []\n",
    "    \n",
    "    # Initialize the list to store Bing sentiment scores for each segment\n",
    "    segment_score = []\n",
    "\n",
    "    # Divide the words into segments\n",
    "    for _ in range(num_segments):\n",
    "        # Calculate the ending index for the current segment\n",
    "        end_index = start_index + base_segment_length + (1 if extra_items > 0 else 0)\n",
    "        \n",
    "        # Create a list of the segment words\n",
    "        seg_words = words[start_index:end_index]\n",
    "\n",
    "        # Append the current segment to the list of segments\n",
    "        segments.append(seg_words)\n",
    "        \n",
    "        # Calculate the Bing sentiment scores for the section\n",
    "        if lexicon == \"bing\":\n",
    "            pos, neg, score = bing_sent(seg_words)\n",
    "            # Append the Bing score to a list that records the score for each segment\n",
    "            segment_score.append((start_index, end_index-1, pos, neg, score, seg_words))\n",
    "            \n",
    "        # Calculate the Afinn sentiment score for the section  \n",
    "        elif lexicon == \"afinn\":\n",
    "            afinn_score = afinn_sent(seg_words)\n",
    "            # Append the Afinn score to a list that records the score for each segment\n",
    "            segment_score.append((start_index, end_index-1, afinn_score, seg_words))\n",
    "            \n",
    "        # Calculate the NRC sentiment scores for the section    \n",
    "        elif lexicon == \"nrc\":\n",
    "            nrc_scores = nrc_sent(seg_words)\n",
    "            nrc_list = list(nrc_scores)\n",
    "            nrc_list.append((nrc_list[9]-nrc_list[8]))\n",
    "            segment_score.append((start_index, end_index-1, *nrc_list))\n",
    "\n",
    "        # Update the starting index for the next segment\n",
    "        start_index = end_index\n",
    "        extra_items -= 1\n",
    "\n",
    "    return segment_score"
   ]
  },
  {
   "cell_type": "code",
   "execution_count": null,
   "id": "ebedff10-3448-4640-853e-d4e68a9f6feb",
   "metadata": {},
   "outputs": [],
   "source": [
    "afinn_df = pd.read_csv(\"Afinn.csv\", encoding = \"latin-1\")"
   ]
  },
  {
   "cell_type": "code",
   "execution_count": null,
   "id": "9d0e12be-232b-45e0-bcb5-43d147f6f14c",
   "metadata": {},
   "outputs": [],
   "source": [
    "bing_df = pd.read_csv(\"Bing.csv\", encoding = \"latin-1\")"
   ]
  },
  {
   "cell_type": "code",
   "execution_count": null,
   "id": "4a89a717-2719-4b16-8a52-6c9545dfefc6",
   "metadata": {},
   "outputs": [],
   "source": [
    "nrc_df = pd.read_csv(\"NRC.csv\", encoding = \"latin-1\")"
   ]
  },
  {
   "cell_type": "markdown",
   "id": "fdee53d7-cca0-49f2-ac32-df7aa9ff98d1",
   "metadata": {},
   "source": [
    "## <span style='color:green'>a) Afinn Lexicon</span>"
   ]
  },
  {
   "cell_type": "code",
   "execution_count": null,
   "id": "def77163-749b-4320-b32c-a7d311a5c6c1",
   "metadata": {},
   "outputs": [],
   "source": [
    "def segment_sentiments_afinn(words, num_segments):\n",
    "    # Calculate the base length of each segment\n",
    "    base_segment_length = len(words) // num_segments\n",
    "\n",
    "    # Calculate the number of extra items\n",
    "    extra_items = len(words) % num_segments\n",
    "\n",
    "    # Initialize the starting index for each segment\n",
    "    start_index = 0\n",
    "\n",
    "    # Initialize the list to store segments\n",
    "    segments = []\n",
    "    \n",
    "    # Initialize the list to store Bing sentiment scores for each segment\n",
    "    segment_score = []\n",
    "\n",
    "    # Divide the words into segments\n",
    "    for _ in range(num_segments):\n",
    "        # Calculate the ending index for the current segment\n",
    "        end_index = start_index + base_segment_length + (1 if extra_items > 0 else 0)\n",
    "        \n",
    "        # Create a list of the segment words\n",
    "        seg_words = words[start_index:end_index]\n",
    "\n",
    "        # Append the current segment to the list of segments\n",
    "        segments.append(seg_words)\n",
    "        \n",
    "        \n",
    "        afinn_score = afinn_sent(seg_words)\n",
    "        afinn_score_more = afinn_sent_more(seg_words)\n",
    "        # Append the Afinn score to a list that records the score for each segment\n",
    "        segment_score.append((start_index, end_index-1, afinn_score, afinn_score_more[0], afinn_score_more[1], afinn_score_more[2], afinn_score_more[3], afinn_score_more[4], afinn_score_more[5], afinn_score_more[6], afinn_score_more[7], afinn_score_more[8], afinn_score_more[9], afinn_score_more[10], seg_words))\n",
    "    \n",
    "\n",
    "        # Calculate the Afinn sentiment score for the section\n",
    "        # Update the starting index for the next segment\n",
    "        start_index = end_index\n",
    "        extra_items -= 1\n",
    "\n",
    "    return segment_score"
   ]
  },
  {
   "cell_type": "code",
   "execution_count": null,
   "id": "76dc3e72-fa4c-47ed-a9c1-3c192c30d6ec",
   "metadata": {},
   "outputs": [],
   "source": [
    "def afinn_sent(words):\n",
    "\n",
    "    afinn_score = 0\n",
    "\n",
    "    for word in words:\n",
    "        matching_tuples = [t for t in afinn_result_list if t[0] == word]\n",
    "\n",
    "        if matching_tuples:\n",
    "            afinn_score = afinn_score+matching_tuples[0][1]\n",
    "    return (afinn_score)"
   ]
  },
  {
   "cell_type": "code",
   "execution_count": null,
   "id": "471f7999-ab27-4869-8702-1edf273b8615",
   "metadata": {},
   "outputs": [],
   "source": [
    "def afinn_sent_more(words):\n",
    "    #afinn_score = 0\n",
    "    first_positive_level = 0\n",
    "    second_positive_level = 0\n",
    "    third_positive_level = 0\n",
    "    fourth_positive_level = 0\n",
    "    fifth_positive_level = 0\n",
    "    neutral_level = 0\n",
    "    first_negative_level = 0\n",
    "    second_negative_level = 0\n",
    "    third_negative_level = 0\n",
    "    fourth_negative_level = 0\n",
    "    fifth_negative_level = 0\n",
    "    \n",
    "    for word in words:\n",
    "        matching_tuples = [t for t in afinn_result_list if t[0] == word]\n",
    "        \n",
    "        if matching_tuples:\n",
    "            #afinn_score = afinn_score+matching_tuples[0][1]\n",
    "            if matching_tuples[0][1] == 0:\n",
    "                neutral_level += 1\n",
    "            elif matching_tuples[0][1] == 1:\n",
    "                first_positive_level += 1\n",
    "            elif matching_tuples[0][1] == 2:\n",
    "                second_positive_level += 1\n",
    "            elif matching_tuples[0][1] == 3:\n",
    "                third_positive_level += 1\n",
    "            elif matching_tuples[0][1] == 4:\n",
    "                fourth_positive_level += 1\n",
    "            elif matching_tuples[0][1] == 5:\n",
    "                fifth_positive_level += 1\n",
    "            elif matching_tuples[0][1] == -1:\n",
    "                first_negative_level += 1\n",
    "            elif matching_tuples[0][1] == -2:\n",
    "                second_negative_level += 1\n",
    "            elif matching_tuples[0][1] == -3:\n",
    "                third_negative_level += 1\n",
    "            elif matching_tuples[0][1] == -4:\n",
    "                fourth_negative_level += 1\n",
    "            elif matching_tuples[0][1] == -5:\n",
    "                fifth_negative_level += 1\n",
    "    return first_positive_level, second_positive_level, third_positive_level, fourth_positive_level, fifth_positive_level, neutral_level, first_negative_level, second_negative_level, third_negative_level, fourth_negative_level, fifth_negative_level"
   ]
  },
  {
   "cell_type": "markdown",
   "id": "d784a8ce-e993-46d1-99a4-df37e056d22f",
   "metadata": {},
   "source": [
    "### <span style='color:violet'>Iterate through the Afinn.csv</span>"
   ]
  },
  {
   "cell_type": "code",
   "execution_count": null,
   "id": "c2b12b2b-4fe5-4e28-aa26-fae45051f0bb",
   "metadata": {},
   "outputs": [],
   "source": [
    "afinn_result_list = [(row['word'], row['value']) for index, row in afinn_df.iterrows()]"
   ]
  },
  {
   "cell_type": "markdown",
   "id": "3d5c4a61-ec32-4832-a2f7-3f8ba28901f8",
   "metadata": {},
   "source": [
    "### <span style='color:violet'>Create dataframe</span>"
   ]
  },
  {
   "cell_type": "code",
   "execution_count": null,
   "id": "992a6d23-d1c6-4b29-aa1c-fa08d170fa44",
   "metadata": {},
   "outputs": [],
   "source": [
    "number = 100\n",
    "\n",
    "afinn_sent_results_orange = segment_sentiments_afinn(tokens_orange, number)\n",
    "\n",
    "afinn_sent_orange_df = pd.DataFrame(afinn_sent_results_orange, columns = [\"seg_start\", \"seg_eng\", \"afinn_score\", \"pos=1\", \"pos=2\", \"pos=3\", \"pos=4\", \"pos=5\", \"neutral\", \"neg=-1\", \"neg=-2\", \"neg=-3\", \"neg=-4\", \"neg=-5\", \"word_list\"])\n",
    "\n",
    "afinn_sent_orange_df"
   ]
  },
  {
   "cell_type": "markdown",
   "id": "3717b3e6-21c0-4adf-af38-e55f43dd1d6e",
   "metadata": {},
   "source": [
    "### <span style='color:violet'>Plot</span>"
   ]
  },
  {
   "cell_type": "code",
   "execution_count": null,
   "id": "35314715-da0c-4391-b9ae-bf50ad2a16d8",
   "metadata": {},
   "outputs": [],
   "source": [
    "plt.bar(((afinn_sent_orange_df.index+1)/number)*100, afinn_sent_orange_df[\"neg=-1\"])\n",
    "plt.title(\"Afinn Sentiment Analysis of \\n My Sweet Orange Tree\")\n",
    "plt.xlabel(\"Segment Position in Novel as % of Text\")\n",
    "plt.ylabel(\"Segment Sentiment\")"
   ]
  },
  {
   "cell_type": "code",
   "execution_count": null,
   "id": "0537d42b-d55c-43f3-a672-634b671be5b7",
   "metadata": {},
   "outputs": [],
   "source": [
    "plt.plot(((afinn_sent_orange_df.index+1)/number)*100, afinn_sent_orange_df[\"neg=-1\"], label = \"-1\")\n",
    "plt.plot(((afinn_sent_orange_df.index+1)/number)*100, afinn_sent_orange_df[\"neg=-2\"], label = \"-2\")\n",
    "plt.plot(((afinn_sent_orange_df.index+1)/number)*100, afinn_sent_orange_df[\"neg=-3\"], label = \"-3\")\n",
    "plt.plot(((afinn_sent_orange_df.index+1)/number)*100, afinn_sent_orange_df[\"neg=-4\"], label = \"-4\")\n",
    "plt.plot(((afinn_sent_orange_df.index+1)/number)*100, afinn_sent_orange_df[\"neg=-5\"], label = \"-5\")\n",
    "plt.title(\"Sentiment Analysis of My Sweet Orange Tree \\n with levels of negative words using Afinn Lexicon\")\n",
    "plt.xlabel(\"Segment Position in Novel as % of Text\")\n",
    "plt.ylabel(\"Segment Sentiment\")\n",
    "plt.legend()\n",
    "\n",
    "plt.savefig('line.png', dpi=300, bbox_inches='tight')"
   ]
  },
  {
   "cell_type": "code",
   "execution_count": null,
   "id": "49f95c1c-4bc9-4fcd-ac37-191a14ccf99a",
   "metadata": {},
   "outputs": [],
   "source": [
    "plt.plot(((afinn_sent_orange_df.index+1)/number)*100, afinn_sent_orange_df[\"pos=1\"], label = \"1\")\n",
    "plt.plot(((afinn_sent_orange_df.index+1)/number)*100, afinn_sent_orange_df[\"pos=2\"], label = \"2\")\n",
    "#plt.plot(((afinn_sent_orange_df.index+1)/number)*100, afinn_sent_orange_df[\"pos=3\"], label = \"3\")\n",
    "#plt.plot(((afinn_sent_orange_df.index+1)/number)*100, afinn_sent_orange_df[\"pos=4\"], label = \"4\")\n",
    "#plt.plot(((afinn_sent_orange_df.index+1)/number)*100, afinn_sent_orange_df[\"pos=5\"], label = \"5\")\n",
    "plt.title(\"Sentiment Analysis of My Sweet Orange Tree \\n with levels of positive words using Afinn Lexicon\")\n",
    "plt.xlabel(\"Segment Position in Novel as % of Text\")\n",
    "plt.ylabel(\"Segment Sentiment\")\n",
    "plt.legend()"
   ]
  },
  {
   "cell_type": "markdown",
   "id": "6d887c67-2a4d-4b07-bade-502e74357525",
   "metadata": {},
   "source": [
    "## <span style='color:green'>b) Bing Lexicon</span>"
   ]
  },
  {
   "cell_type": "markdown",
   "id": "98f0cba3-03ec-445d-be3e-9ec5e30ac656",
   "metadata": {},
   "source": [
    "### <span style='color:violet'>Plot</span>"
   ]
  },
  {
   "cell_type": "code",
   "execution_count": null,
   "id": "721aaa8b-dcac-46f4-a5a5-cae90c69ca29",
   "metadata": {},
   "outputs": [],
   "source": [
    "bing_result_list = [(row['word'], row['sentiment']) for index, row in bing_df.iterrows()]"
   ]
  },
  {
   "cell_type": "markdown",
   "id": "cef8a23e-01d4-40c4-bc04-8c3cc15a7259",
   "metadata": {},
   "source": [
    "### <span style='color:violet'>Create dataframe</span>"
   ]
  },
  {
   "cell_type": "code",
   "execution_count": null,
   "id": "8c757fac-2999-4424-9498-169794106e85",
   "metadata": {},
   "outputs": [],
   "source": [
    "bing_sent_results_orange = segment_sentiments(tokens_orange, number, lexicon=\"bing\")\n",
    "\n",
    "bing_sent_orange_df = pd.DataFrame(bing_sent_results_orange, columns = [\"seg_start\", \"seg_eng\", \"positive_score\", \"negative_score\", \"overall_seg_score\", \"word_list\"])\n",
    "\n",
    "bing_sent_orange_df"
   ]
  },
  {
   "cell_type": "markdown",
   "id": "6922857c-d6a1-43c2-9cd8-f8f067642bd3",
   "metadata": {},
   "source": [
    "### <span style='color:violet'>Plot</span>"
   ]
  },
  {
   "cell_type": "code",
   "execution_count": null,
   "id": "ba9930ac-0791-48e9-9afd-344ef35d7bea",
   "metadata": {},
   "outputs": [],
   "source": [
    "plt.bar(((bing_sent_orange_df.index+1)/number)*100, bing_sent_orange_df[\"overall_seg_score\"])\n",
    "plt.title(\"Bing Sentiment Analysis of \\n My Sweet Orange Tree\")\n",
    "plt.xlabel(\"Segment Position in Novel as % of Text\")\n",
    "plt.ylabel(\"Segment Sentiment\")\n",
    "plt.savefig('bar.png', dpi=300, bbox_inches='tight')"
   ]
  },
  {
   "cell_type": "markdown",
   "id": "a9e50dd8-c5fb-4d4b-9031-506a010e3ef7",
   "metadata": {},
   "source": [
    "### <span style='color:violet'>Smallest and Largest</span>"
   ]
  },
  {
   "cell_type": "code",
   "execution_count": null,
   "id": "d8b614b1-e031-434a-8635-59f7627c66bd",
   "metadata": {},
   "outputs": [],
   "source": [
    "largest = bing_sent_orange_df.nlargest(10, \"overall_seg_score\")\n",
    "largest"
   ]
  },
  {
   "cell_type": "code",
   "execution_count": null,
   "id": "038f59e3-0ca6-4757-b3ff-d76b7e599928",
   "metadata": {},
   "outputs": [],
   "source": [
    "print(bing_sent_orange_df.loc[18].word_list)"
   ]
  },
  {
   "cell_type": "code",
   "execution_count": null,
   "id": "c2c64ac5-ec02-42e7-a195-cd4454f79256",
   "metadata": {},
   "outputs": [],
   "source": [
    "print(bing_sent_orange_df.loc[47].word_list)"
   ]
  },
  {
   "cell_type": "markdown",
   "id": "8ce78c8b-f87c-4fe3-bd86-6f1f8b909954",
   "metadata": {},
   "source": [
    "## <span style='color:green'>c) NRC Lexicon</span>"
   ]
  },
  {
   "cell_type": "markdown",
   "id": "d224d24a-e694-4f2d-929f-3db0ad9828e7",
   "metadata": {},
   "source": [
    "### <span style='color:violet'>Iterate through the NRC.csv</span>"
   ]
  },
  {
   "cell_type": "code",
   "execution_count": null,
   "id": "697e2ec2-b3f9-4e1a-83bf-64777335028a",
   "metadata": {},
   "outputs": [],
   "source": [
    "nrc_sent_results_orange = segment_sentiments(tokens_orange, number, lexicon=\"nrc\")"
   ]
  },
  {
   "cell_type": "markdown",
   "id": "800a6ce5-9700-42c1-8960-581c61f191ff",
   "metadata": {},
   "source": [
    "### <span style='color:violet'>Create dataframe</span>"
   ]
  },
  {
   "cell_type": "code",
   "execution_count": null,
   "id": "f21d0f45-7ccd-4e3e-b96f-3e3e4c6b761d",
   "metadata": {},
   "outputs": [],
   "source": [
    "nrc_sent_orange_df = pd.DataFrame(nrc_sent_results_orange, columns = [\"seg_start\", \"seg_eng\", \"fear\", \"anger\", \"trust\", \"sadness\", \"disgust\", \"anticipation\", \"joy\", \"surprise\", \"negative\", \"positive\", \"overall_seg_score\"])\n",
    "\n",
    "nrc_sent_orange_df"
   ]
  },
  {
   "cell_type": "markdown",
   "id": "2aa84b11-8e29-4589-9ef9-6503816d9bf1",
   "metadata": {},
   "source": [
    "### <span style='color:violet'>Plot</span>"
   ]
  },
  {
   "cell_type": "code",
   "execution_count": null,
   "id": "9f9d9b8c-7486-45db-a8cb-a2399bc6491b",
   "metadata": {},
   "outputs": [],
   "source": [
    "plt.bar(((nrc_sent_orange_df.index+1)/number)*100, nrc_sent_orange_df[\"overall_seg_score\"])\n",
    "plt.title(\"NRC Sentiment Analysis of \\n My Sweet Orange Tree\")\n",
    "plt.xlabel(\"Segment Position in Novel as % of Text\")\n",
    "plt.ylabel(\"Segment Sentiment\")"
   ]
  },
  {
   "cell_type": "code",
   "execution_count": null,
   "id": "caedbf27-7e13-4ef2-86d1-f86dde68c643",
   "metadata": {},
   "outputs": [],
   "source": [
    "#plt.plot(((nrc_sent_orange_df.index+1)/number)*100, nrc_sent_orange_df[\"anger\"], label = \"anger\")\n",
    "plt.plot(((nrc_sent_orange_df.index+1)/number)*100, nrc_sent_orange_df[\"fear\"], label = \"fear\")\n",
    "plt.plot(((nrc_sent_orange_df.index+1)/number)*100, nrc_sent_orange_df[\"disgust\"], label = \"disgust\")\n",
    "plt.plot(((nrc_sent_orange_df.index+1)/number)*100, nrc_sent_orange_df[\"joy\"], label = \"joy\")\n",
    "plt.title(\"NRC Sentiment Analysis of \\n My Sweet Orange Tree\")\n",
    "plt.xlabel(\"Segment Position in Novel as % of Text\")\n",
    "plt.ylabel(\"Segment Sentiment\")\n",
    "plt.legend()"
   ]
  },
  {
   "cell_type": "code",
   "execution_count": null,
   "id": "07fbcb7a-aaf8-402e-8dc9-21bf26cf5b6b",
   "metadata": {},
   "outputs": [],
   "source": [
    "plt.plot(((nrc_sent_orange_df.index+1)/number)*100, nrc_sent_orange_df[\"trust\"], label = \"trust\")\n",
    "plt.title(\"NRC Sentiment Analysis of \\n My Sweet Orange Tree\")\n",
    "plt.xlabel(\"Segment Position in Novel as % of Text\")\n",
    "plt.ylabel(\"Segment Sentiment\")\n",
    "plt.legend()"
   ]
  },
  {
   "cell_type": "markdown",
   "id": "1b5625e3-9c5f-4215-b923-38b915d1f48e",
   "metadata": {},
   "source": [
    "## <span style='color:green'>d) Three Lexicons</span>"
   ]
  },
  {
   "cell_type": "code",
   "execution_count": null,
   "id": "19a21f76-5f52-41df-98ea-4bf40ab64122",
   "metadata": {},
   "outputs": [],
   "source": [
    "plt.plot(((bing_sent_orange_df.index+1)/number)*100, bing_sent_orange_df[\"overall_seg_score\"], label = \"bing\")\n",
    "plt.plot(((afinn_sent_orange_df.index+1)/number)*100, afinn_sent_orange_df[\"afinn_score\"], label = \"afinn\")\n",
    "plt.plot(((nrc_sent_orange_df.index+1)/number)*100, nrc_sent_orange_df[\"overall_seg_score\"], label = \"nrc\")\n",
    "plt.title(\"Sentiment Analysis of \\n My Sweet Orange Tree \\n Using Two Different Sentiment Lexicons\")\n",
    "plt.xlabel(\"Segment Position in Novel as % of Text\")\n",
    "plt.ylabel(\"Segment Sentiment\")\n",
    "plt.legend()"
   ]
  },
  {
   "cell_type": "markdown",
   "id": "dc5b30f3-685c-469a-923b-1940d016e002",
   "metadata": {},
   "source": [
    "## <span style='color:green'>e) Smooth Lines</span>"
   ]
  },
  {
   "cell_type": "markdown",
   "id": "0db778b0-ece7-444b-886e-70cf4e91d83d",
   "metadata": {},
   "source": [
    "### <span style='color:violet'>Using three lexicons</span>"
   ]
  },
  {
   "cell_type": "code",
   "execution_count": null,
   "id": "a5dd377f-6de7-44dc-95ba-092a1a4eb844",
   "metadata": {},
   "outputs": [],
   "source": [
    "# Create a graph with smoother lines\n",
    "\n",
    "# Define the number of points for the spline curve\n",
    "num_points = 1000\n",
    "\n",
    "# Smooth the bing_sent_twenty_df data\n",
    "bing_spline = UnivariateSpline(\n",
    "    ((bing_sent_orange_df.index + 1) / number) * 100,\n",
    "    bing_sent_orange_df[\"overall_seg_score\"],\n",
    "    s=0  # You can adjust the smoothing factor 's' based on your preference\n",
    ")\n",
    "\n",
    "# Smooth the afinn_sent_twenty_df data\n",
    "afinn_spline = UnivariateSpline(\n",
    "    ((afinn_sent_orange_df.index + 1) / number) * 100,\n",
    "    afinn_sent_orange_df[\"afinn_score\"],\n",
    "    s=0  # You can adjust the smoothing factor 's' based on your preference\n",
    ")\n",
    "\n",
    "# Smooth the nrc_sent_twenty_df data\n",
    "nrc_spline = UnivariateSpline(\n",
    "    ((nrc_sent_orange_df.index + 1) / number) * 100,\n",
    "    nrc_sent_orange_df[\"overall_seg_score\"],\n",
    "    s=0  # You can adjust the smoothing factor 's' based on your preference\n",
    ")\n",
    "\n",
    "# Generate points for the smoothed curves\n",
    "x_smooth = np.linspace(\n",
    "    (((bing_sent_orange_df.index + 1) / number) * 100).min(),\n",
    "    (((bing_sent_orange_df.index + 1) / number) * 100).max(),\n",
    "    num=num_points\n",
    ")\n",
    "\n",
    "# Set the figure size to stretch the x-axis visually\n",
    "plt.figure(figsize=(12, 6))  # Adjust width and height as needed\n",
    "\n",
    "# Plot the smoothed curves\n",
    "plt.plot(x_smooth, bing_spline(x_smooth), label=\"Bing Sentiment\", color=\"blue\")\n",
    "plt.plot(x_smooth, afinn_spline(x_smooth), label=\"Afinn Sentiment\", color=\"orange\")\n",
    "plt.plot(x_smooth, nrc_spline(x_smooth), label=\"NRC Sentiment\", color=\"red\")\n",
    "\n",
    "# Original data points\n",
    "plt.scatter(\n",
    "    ((bing_sent_orange_df.index + 1) / number) * 100,\n",
    "    bing_sent_orange_df[\"overall_seg_score\"],\n",
    "    marker=\"o\",\n",
    "    color=\"blue\",\n",
    "    alpha=0.5\n",
    ")\n",
    "plt.scatter(\n",
    "    ((afinn_sent_orange_df.index + 1) / number) * 100,\n",
    "    afinn_sent_orange_df[\"afinn_score\"],\n",
    "    marker=\"o\",\n",
    "    color=\"orange\",\n",
    "    alpha=0.5\n",
    ")\n",
    "plt.scatter(\n",
    "    ((nrc_sent_orange_df.index + 1) / number) * 100,\n",
    "    nrc_sent_orange_df[\"overall_seg_score\"],\n",
    "    marker=\"o\",\n",
    "    color=\"red\",\n",
    "    alpha=0.5\n",
    ")\n",
    "\n",
    "\n",
    "# Set title and labels\n",
    "plt.title(\"Sentiment Analysis of \\n My Sweet Orange Tree \\n Using Three Different Sentiment Lexicons\")\n",
    "plt.xlabel(\"Segment Position in Novel as % of Text\")\n",
    "plt.ylabel(\"Segment Sentiment\")\n",
    "plt.legend()\n",
    "\n",
    "\n",
    "# Stretch the x-axis\n",
    "plt.xlim(0, 100)  # Replace x_min_value and x_max_value with your desired range\n",
    "\n",
    "# Show the plot\n",
    "plt.show()"
   ]
  },
  {
   "cell_type": "markdown",
   "id": "e50dbd5d-a5d0-457a-ad77-4461e1965f10",
   "metadata": {},
   "source": [
    "### <span style='color:violet'>For a specific word using NRC Lexicon</span>"
   ]
  },
  {
   "cell_type": "code",
   "execution_count": null,
   "id": "c08397cc-2040-4b2d-89ae-1a7bb0529cd6",
   "metadata": {},
   "outputs": [],
   "source": [
    "# Create a graph with smoother lines\n",
    "\n",
    "# Define the number of points for the spline curve\n",
    "num_points = 1000\n",
    "\n",
    "# Smooth the nrc_sent_twenty_df data for a specific emotion\n",
    "nrc_spline_anger = UnivariateSpline(\n",
    "    ((nrc_sent_orange_df.index + 1) / number) * 100,\n",
    "    nrc_sent_orange_df[\"sadness\"],\n",
    "    s=0,  # You can adjust the smoothing factor 's' based on your preference\n",
    ")\n",
    "\n",
    "# Smooth the nrc_sent_twenty_df data for a specific emotion\n",
    "nrc_spline_fear = UnivariateSpline(\n",
    "    ((nrc_sent_orange_df.index + 1) / number) * 100,\n",
    "    nrc_sent_orange_df[\"disgust\"],\n",
    "    s=0,  # You can adjust the smoothing factor 's' based on your preference\n",
    ")\n",
    "\n",
    "# Generate points for the smoothed curves\n",
    "x_smooth = np.linspace(\n",
    "    (((nrc_sent_orange_df.index + 1) / number) * 100).min(),\n",
    "    (((nrc_sent_orange_df.index + 1) / number) * 100).max(),\n",
    "    num=num_points\n",
    ")\n",
    "\n",
    "# Set the figure size to stretch the x-axis visually\n",
    "plt.figure(figsize=(12, 6))  # Adjust width and height as needed\n",
    "\n",
    "# Plot the smoothed curves\n",
    "plt.plot(x_smooth, nrc_spline_anger(x_smooth), label=\"sadness\", color=\"red\")\n",
    "plt.plot(x_smooth, nrc_spline_fear(x_smooth), label=\"disgust\", color=\"orange\")\n",
    "\n",
    "# Original data points\n",
    "plt.scatter(\n",
    "    ((nrc_sent_orange_df.index + 1) / number) * 100,\n",
    "    nrc_sent_orange_df[\"sadness\"],\n",
    "    marker=\"o\",\n",
    "    color=\"red\",\n",
    "    alpha=0.5,\n",
    ")\n",
    "\n",
    "plt.scatter(\n",
    "    ((nrc_sent_orange_df.index + 1) / number) * 100,\n",
    "    nrc_sent_orange_df[\"disgust\"],\n",
    "    marker=\"o\",\n",
    "    color=\"orange\",\n",
    "    alpha=0.5,\n",
    ")\n",
    "\n",
    "# Set title and labels\n",
    "plt.title(\"Sentiment Analysis of \\n My Sweet Orange Tree \\n Using the NRC Sentiment Lexicon\")\n",
    "plt.xlabel(\"Segment Position in Novel as % of Text\")\n",
    "plt.ylabel(\"Segment Sentiment\")\n",
    "plt.legend()\n",
    "\n",
    "# Show the plot\n",
    "plt.show()"
   ]
  },
  {
   "cell_type": "markdown",
   "id": "cced6975-6cc3-4843-8b98-05b073b669c9",
   "metadata": {},
   "source": [
    "### *<span style='color:red'>Father and occurences of negative words</span>*"
   ]
  },
  {
   "cell_type": "code",
   "execution_count": null,
   "id": "550d237d-2909-4995-8249-97ad6b486080",
   "metadata": {},
   "outputs": [],
   "source": [
    "custom_dispersion(novel,[\"father\",\"portuga\",\"portuguese\", \"totoca\"]) "
   ]
  },
  {
   "cell_type": "code",
   "execution_count": null,
   "id": "6146cce3-8328-4adc-a383-4ef1873ba256",
   "metadata": {},
   "outputs": [],
   "source": [
    "nrc_sent_results_orange_1 = segment_sentiments(tokens_orange[8000:23000], number, lexicon=\"nrc\")\n",
    "nrc_sent_orange_df_1 = pd.DataFrame(nrc_sent_results_orange_1, columns = [\"seg_start\", \"seg_eng\", \"fear\", \"anger\", \"trust\", \"sadness\", \"disgust\", \"anticipation\", \"joy\", \"surprise\", \"negative\", \"positive\", \"overall_seg_score\"])\n",
    "nrc_sent_orange_df_1"
   ]
  },
  {
   "cell_type": "code",
   "execution_count": null,
   "id": "95706b4f-a243-4754-a9ad-18aa04c67869",
   "metadata": {},
   "outputs": [],
   "source": [
    "#plt.plot(((nrc_sent_orange_df_1.index+1)/number)*50, nrc_sent_orange_df_1[\"fear\"], label = \"fear\")\n",
    "plt.plot(((nrc_sent_orange_df_1.index+1)/number)*50, nrc_sent_orange_df_1[\"sadness\"], label = \"sadness\")\n",
    "#plt.plot(((nrc_sent_orange_df_1.index+1)/number)*50, nrc_sent_orange_df_1[\"disgust\"], label = \"disgust\")\n",
    "#plt.plot(((nrc_sent_orange_df_1.index+1)/number)*50, nrc_sent_orange_df_1[\"anger\"], label = \"anger\")\n",
    "#plt.plot(((nrc_sent_orange_df_1.index+1)/number)*50, nrc_sent_orange_df_1[\"joy\"], label = \"joy\")\n",
    "plt.plot(((nrc_sent_orange_df_1.index+1)/number)*50, nrc_sent_orange_df_1[\"trust\"], label = \"trust\")\n",
    "#plt.plot(((nrc_sent_orange_df_1.index+1)/number)*50, nrc_sent_orange_df_1[\"anticipation\"], label = \"anticipation\")\n",
    "#plt.plot(((nrc_sent_orange_df_1.index+1)/number)*50, nrc_sent_orange_df_1[\"surprise\"], label = \"surprise\")\n",
    "plt.title(\"Analysis of Zeze's emotions with his father using NRC Lexicon\")\n",
    "plt.xlabel(\"Segment Position in Novel as % of Text\")\n",
    "plt.ylabel(\"Segment Sentiment\")\n",
    "plt.legend()\n",
    "\n",
    "plt.savefig('line_NRC_father.png', dpi=300, bbox_inches='tight')\n",
    "#Even though having negative attachment with his father, his lexical diversity tends to be more skewed towards positive words."
   ]
  },
  {
   "cell_type": "code",
   "execution_count": null,
   "id": "2606c442-95f4-45ad-bdc5-7c1718b3b864",
   "metadata": {},
   "outputs": [],
   "source": [
    "nrc_sent_results_orange_2 = segment_sentiments(tokens_orange[8000:23000], number, lexicon=\"nrc\")\n",
    "nrc_sent_orange_df_2 = pd.DataFrame(nrc_sent_results_orange_2, columns = [\"seg_start\", \"seg_eng\", \"fear\", \"anger\", \"trust\", \"sadness\", \"disgust\", \"anticipation\", \"joy\", \"surprise\", \"negative\", \"positive\", \"overall_seg_score\"])\n",
    "nrc_sent_orange_df_2"
   ]
  },
  {
   "cell_type": "code",
   "execution_count": null,
   "id": "3e290b0e-3869-45f5-8c58-8180481873d3",
   "metadata": {},
   "outputs": [],
   "source": [
    "#plt.plot(((nrc_sent_orange_df_2.index+1)/number)*50, nrc_sent_orange_df_2[\"fear\"], label = \"fear\")\n",
    "plt.plot(((nrc_sent_orange_df_2.index+1)/number)*50, nrc_sent_orange_df_2[\"sadness\"], label = \"sadness\")\n",
    "#plt.plot(((nrc_sent_orange_df_2.index+1)/number)*50, nrc_sent_orange_df_2[\"joy\"], label = \"joy\")\n",
    "plt.plot(((nrc_sent_orange_df_2.index+1)/number)*50, nrc_sent_orange_df_2[\"trust\"], label = \"trust\")\n",
    "plt.title(\"Analysis of Zeze's emotions with his father using NRC Lexicon\")\n",
    "plt.xlabel(\"Segment Position in Novel as % of Text\")\n",
    "plt.ylabel(\"Segment Sentiment\")\n",
    "plt.legend()\n",
    "\n",
    "#plt.savefig('plot_NRC_sadness_trust_2.png', dpi=300, bbox_inches='tight')"
   ]
  },
  {
   "cell_type": "code",
   "execution_count": null,
   "id": "df1f500a-7291-4b57-a2c5-28db4326edf0",
   "metadata": {},
   "outputs": [],
   "source": [
    "bing_sent_results_orange_1 = segment_sentiments(tokens_orange[8000:23000], number, lexicon=\"bing\")\n",
    "\n",
    "bing_sent_orange_df_1 = pd.DataFrame(bing_sent_results_orange_1, columns = [\"seg_start\", \"seg_eng\", \"positive_score\", \"negative_score\", \"overall_seg_score\", \"word_list\"])\n",
    "\n",
    "bing_sent_orange_df_1"
   ]
  },
  {
   "cell_type": "code",
   "execution_count": null,
   "id": "d92cd775-8fc8-4b75-b4ee-22e234f1584d",
   "metadata": {},
   "outputs": [],
   "source": [
    "plt.bar(((bing_sent_orange_df_1.index+1)/number)*100, bing_sent_orange_df_1[\"overall_seg_score\"])\n",
    "plt.title(\"Bing Sentiment Analysis of \\n Zezé's words usage in My Sweet Orange Tree\")\n",
    "plt.xlabel(\"Segment Position in Novel as % of Text\")\n",
    "plt.ylabel(\"Segment Sentiment\")\n",
    "\n",
    "plt.savefig('plot_bing_general.png', dpi=300, bbox_inches='tight')"
   ]
  },
  {
   "cell_type": "code",
   "execution_count": null,
   "id": "06bf3fc0-7320-4c92-9819-22d3af954b9e",
   "metadata": {},
   "outputs": [],
   "source": [
    "number = 100\n",
    "\n",
    "afinn_sent_results_orange_1 = segment_sentiments_afinn(tokens_orange[8000:23000], number)\n",
    "\n",
    "afinn_sent_orange_df_1 = pd.DataFrame(afinn_sent_results_orange_1, columns = [\"seg_start\", \"seg_eng\", \"afinn_score\", \"pos=1\", \"pos=2\", \"pos=3\", \"pos=4\", \"pos=5\", \"neutral\", \"neg=-1\", \"neg=-2\", \"neg=-3\", \"neg=-4\", \"neg=-5\", \"word_list\"])\n",
    "\n",
    "afinn_sent_orange_df_1"
   ]
  },
  {
   "cell_type": "code",
   "execution_count": null,
   "id": "6db2f300-5469-4d14-8c9a-e2f4470ea5c2",
   "metadata": {},
   "outputs": [],
   "source": [
    "plt.plot(((afinn_sent_orange_df_1.index+1)/number)*100, afinn_sent_orange_df_1[\"neg=-1\"], label = \"-1\")\n",
    "plt.plot(((afinn_sent_orange_df_1.index+1)/number)*100, afinn_sent_orange_df_1[\"neg=-2\"], label = \"-2\")\n",
    "plt.plot(((afinn_sent_orange_df_1.index+1)/number)*100, afinn_sent_orange_df_1[\"neg=-3\"], label = \"-3\")\n",
    "#plt.plot(((afinn_sent_orange_df_1.index+1)/number)*100, afinn_sent_orange_df_1[\"pos=2\"], label = \"2\")\n",
    "#plt.plot(((afinn_sent_orange_df_1.index+1)/number)*100, afinn_sent_orange_df_1[\"neg=-5\"], label = \"-5\")\n",
    "plt.title(\"Sentiment Analysis of My Sweet Orange Tree \\n with levels of negative words using Afinn Lexicon\")\n",
    "plt.xlabel(\"Segment Position in Novel as % of Text\")\n",
    "plt.ylabel(\"Segment Sentiment\")\n",
    "plt.legend()\n",
    "\n",
    "plt.savefig('plot_afinn_father.png', dpi=300, bbox_inches='tight')"
   ]
  },
  {
   "cell_type": "code",
   "execution_count": null,
   "id": "2cf9aa7b-38e7-4a5d-a090-d18d1ba55165",
   "metadata": {},
   "outputs": [],
   "source": [
    "plt.plot(((afinn_sent_orange_df_1.index+1)/number)*100, afinn_sent_orange_df_1[\"pos=1\"], label = \"1\")\n",
    "plt.plot(((afinn_sent_orange_df_1.index+1)/number)*100, afinn_sent_orange_df_1[\"pos=2\"], label = \"2\")\n",
    "plt.plot(((afinn_sent_orange_df_1.index+1)/number)*100, afinn_sent_orange_df_1[\"pos=3\"], label = \"3\")\n",
    "#plt.plot(((afinn_sent_orange_df_2.index+1)/number)*100, afinn_sent_orange_df_2[\"pos=4\"], label = \"4\")\n",
    "#plt.plot(((afinn_sent_orange_df_2.index+1)/number)*100, afinn_sent_orange_df_2[\"pos=5\"], label = \"5\")\n",
    "plt.title(\"Sentiment Analysis of My Sweet Orange Tree \\n with levels of positive words using Afinn Lexicon\")\n",
    "plt.xlabel(\"Segment Position in Novel as % of Text\")\n",
    "plt.ylabel(\"Segment Sentiment\")\n",
    "plt.legend()"
   ]
  },
  {
   "cell_type": "markdown",
   "id": "8c2a43e2-a4bb-448b-9d5d-c1c5fa4431f4",
   "metadata": {},
   "source": [
    "### *<span style='color:red'>Portuga and occurences of negative words</span>*"
   ]
  },
  {
   "cell_type": "code",
   "execution_count": null,
   "id": "af7887dc-3dd8-4982-96e2-efc46bc73484",
   "metadata": {},
   "outputs": [],
   "source": [
    "custom_dispersion(novel,[\"portuga\", \"portuguese\", \"pinkie\", \"glória\"])"
   ]
  },
  {
   "cell_type": "code",
   "execution_count": null,
   "id": "c83752bc-4a25-485e-bc87-603a2c155adf",
   "metadata": {},
   "outputs": [],
   "source": [
    "nrc_sent_results_orange_2 = segment_sentiments(tokens_orange[23000:38000], number, lexicon=\"nrc\")\n",
    "nrc_sent_orange_df_2 = pd.DataFrame(nrc_sent_results_orange_2, columns = [\"seg_start\", \"seg_eng\", \"fear\", \"anger\", \"trust\", \"sadness\", \"disgust\", \"anticipation\", \"joy\", \"surprise\", \"negative\", \"positive\", \"overall_seg_score\"])\n",
    "nrc_sent_orange_df_2"
   ]
  },
  {
   "cell_type": "code",
   "execution_count": null,
   "id": "a7b7d4cd-e2cd-4d7c-9726-ee4db5818a82",
   "metadata": {},
   "outputs": [],
   "source": [
    "#plt.plot(((nrc_sent_orange_df_2.index+1)/number)*50, nrc_sent_orange_df_2[\"fear\"], label = \"fear\")\n",
    "plt.plot(((nrc_sent_orange_df_2.index+1)/number)*50, nrc_sent_orange_df_2[\"sadness\"], label = \"sadness\")\n",
    "#plt.plot(((nrc_sent_orange_df_2.index+1)/number)*50, nrc_sent_orange_df_2[\"joy\"], label = \"joy\")\n",
    "plt.plot(((nrc_sent_orange_df_2.index+1)/number)*50, nrc_sent_orange_df_2[\"trust\"], label = \"trust\")\n",
    "plt.title(\"Analysis of Zeze's emotions \\n with the Portuguese using NRC Lexicon\")\n",
    "plt.xlabel(\"Segment Position in Novel as % of Text\")\n",
    "plt.ylabel(\"Segment Sentiment\")\n",
    "plt.legend()\n",
    "\n",
    "plt.savefig('plot_NRC_portuga_1.png', dpi=300, bbox_inches='tight')"
   ]
  },
  {
   "cell_type": "code",
   "execution_count": null,
   "id": "dd50b23c-0b5e-4194-ad52-a83780d2f918",
   "metadata": {},
   "outputs": [],
   "source": [
    "bing_sent_results_orange_2 = segment_sentiments(tokens_orange[23000:38000], number, lexicon=\"bing\")\n",
    "\n",
    "bing_sent_orange_df_2 = pd.DataFrame(bing_sent_results_orange_2, columns = [\"seg_start\", \"seg_eng\", \"positive_score\", \"negative_score\", \"overall_seg_score\", \"word_list\"])\n",
    "\n",
    "bing_sent_orange_df_2"
   ]
  },
  {
   "cell_type": "code",
   "execution_count": null,
   "id": "ea483360-bdb5-4082-82c6-64a6dcdccd14",
   "metadata": {},
   "outputs": [],
   "source": [
    "plt.bar(((bing_sent_orange_df_2.index+1)/number)*100, bing_sent_orange_df_2[\"overall_seg_score\"])\n",
    "plt.title(\"Bing Sentiment Analysis of \\n My Sweet Orange Tree\")\n",
    "plt.xlabel(\"Segment Position in Novel as % of Text\")\n",
    "plt.ylabel(\"Segment Sentiment\")"
   ]
  },
  {
   "cell_type": "code",
   "execution_count": null,
   "id": "2c9095f7-8c3f-4061-9e3a-bffc610bfd7c",
   "metadata": {},
   "outputs": [],
   "source": [
    "number = 100\n",
    "\n",
    "afinn_sent_results_orange_2 = segment_sentiments_afinn(tokens_orange[23000:38000], number)\n",
    "\n",
    "afinn_sent_orange_df_2 = pd.DataFrame(afinn_sent_results_orange_2, columns = [\"seg_start\", \"seg_eng\", \"afinn_score\", \"pos=1\", \"pos=2\", \"pos=3\", \"pos=4\", \"pos=5\", \"neutral\", \"neg=-1\", \"neg=-2\", \"neg=-3\", \"neg=-4\", \"neg=-5\", \"word_list\"])\n",
    "\n",
    "afinn_sent_orange_df_2"
   ]
  },
  {
   "cell_type": "code",
   "execution_count": null,
   "id": "37dd2daf-c24a-4b77-80fb-5dabc4e0274c",
   "metadata": {},
   "outputs": [],
   "source": [
    "plt.plot(((afinn_sent_orange_df_2.index+1)/number)*100, afinn_sent_orange_df_2[\"neg=-1\"], label = \"-1\")\n",
    "plt.plot(((afinn_sent_orange_df_2.index+1)/number)*100, afinn_sent_orange_df_2[\"neg=-2\"], label = \"-2\")\n",
    "#plt.plot(((afinn_sent_orange_df_2.index+1)/number)*100, afinn_sent_orange_df_2[\"neg=-3\"], label = \"-3\")\n",
    "#plt.plot(((afinn_sent_orange_df_2.index+1)/number)*100, afinn_sent_orange_df_2[\"pos=2\"], label = \"2\")\n",
    "#plt.plot(((afinn_sent_orange_df_2.index+1)/number)*100, afinn_sent_orange_df_2[\"neg=-4\"], label = \"-4\")\n",
    "#plt.plot(((afinn_sent_orange_df_2.index+1)/number)*100, afinn_sent_orange_df_2[\"neg=-5\"], label = \"-5\")\n",
    "plt.title(\"Analysis of Zeze's emotions \\n with The Portuguese using Afinn Lexicon\")\n",
    "plt.xlabel(\"Segment Position in Novel as % of Text\")\n",
    "plt.ylabel(\"Segment Sentiment\")\n",
    "plt.legend()\n",
    "\n",
    "plt.savefig('plot_Afinn_portuga_1.png', dpi=300, bbox_inches='tight')"
   ]
  },
  {
   "cell_type": "code",
   "execution_count": null,
   "id": "197d6afb-cce4-4619-b362-bf6f1b2ef1ab",
   "metadata": {},
   "outputs": [],
   "source": [
    "plt.plot(((afinn_sent_orange_df_2.index+1)/number)*100, afinn_sent_orange_df_2[\"pos=1\"], label = \"1\")\n",
    "plt.plot(((afinn_sent_orange_df_2.index+1)/number)*100, afinn_sent_orange_df_2[\"pos=2\"], label = \"2\")\n",
    "plt.plot(((afinn_sent_orange_df_2.index+1)/number)*100, afinn_sent_orange_df_2[\"pos=3\"], label = \"3\")\n",
    "#plt.plot(((afinn_sent_orange_df_2.index+1)/number)*100, afinn_sent_orange_df_2[\"pos=4\"], label = \"4\")\n",
    "#plt.plot(((afinn_sent_orange_df_2.index+1)/number)*100, afinn_sent_orange_df_2[\"pos=5\"], label = \"5\")\n",
    "plt.title(\"Analysis of Zeze's positive emotions \\n with The Portuguese using Afinn Lexicon\")\n",
    "plt.xlabel(\"Segment Position in Novel as % of Text\")\n",
    "plt.ylabel(\"Segment Sentiment\")\n",
    "plt.legend()\n",
    "\n",
    "plt.savefig('plot_Afinn_portuga.png', dpi=300, bbox_inches='tight')"
   ]
  },
  {
   "cell_type": "markdown",
   "id": "edb05f8a-bbe3-4457-8655-c0e8bf2e352c",
   "metadata": {
    "tags": []
   },
   "source": [
    "### *<span style='color:red'>Totoca and occurences of negative words</span>*"
   ]
  },
  {
   "cell_type": "code",
   "execution_count": null,
   "id": "0d9b7f3a-ed56-4b78-b2e4-036cac6a0ecf",
   "metadata": {},
   "outputs": [],
   "source": [
    "nrc_sent_results_orange_3 = segment_sentiments(tokens_orange[0:8000], number, lexicon=\"nrc\")\n",
    "nrc_sent_orange_df_3 = pd.DataFrame(nrc_sent_results_orange_3, columns = [\"seg_start\", \"seg_eng\", \"fear\", \"anger\", \"trust\", \"sadness\", \"disgust\", \"anticipation\", \"joy\", \"surprise\", \"negative\", \"positive\", \"overall_seg_score\"])\n",
    "nrc_sent_orange_df_3"
   ]
  },
  {
   "cell_type": "code",
   "execution_count": null,
   "id": "80200a01-dfa1-4cb8-abd1-43dab66ac1ff",
   "metadata": {},
   "outputs": [],
   "source": [
    "#plt.plot(((nrc_sent_orange_df_3.index+1)/number)*50, nrc_sent_orange_df_3[\"fear\"], label = \"fear\")\n",
    "plt.plot(((nrc_sent_orange_df_3.index+1)/number)*50, nrc_sent_orange_df_3[\"sadness\"], label = \"sadness\")\n",
    "plt.plot(((nrc_sent_orange_df_3.index+1)/number)*50, nrc_sent_orange_df_3[\"joy\"], label = \"joy\")\n",
    "#plt.plot(((nrc_sent_orange_df_3.index+1)/number)*50, nrc_sent_orange_df_3[\"trust\"], label = \"trust\")\n",
    "plt.title(\"Analysis of Zeze's emotions with Totoca using NRC Lexicon\")\n",
    "plt.xlabel(\"Segment Position in Novel as % of Text\")\n",
    "plt.ylabel(\"Segment Sentiment\")\n",
    "plt.legend()\n",
    "\n",
    "plt.savefig('plot_NRC_totoca.png', dpi=300, bbox_inches='tight')"
   ]
  },
  {
   "cell_type": "code",
   "execution_count": null,
   "id": "874602ee-2821-46c5-a0ec-3a2a1c99632b",
   "metadata": {},
   "outputs": [],
   "source": [
    "bing_sent_results_orange_3 = segment_sentiments(tokens_orange[0:8000], number, lexicon=\"bing\")\n",
    "\n",
    "bing_sent_orange_df_3 = pd.DataFrame(bing_sent_results_orange_3, columns = [\"seg_start\", \"seg_eng\", \"positive_score\", \"negative_score\", \"overall_seg_score\", \"word_list\"])\n",
    "\n",
    "bing_sent_orange_df_3"
   ]
  },
  {
   "cell_type": "code",
   "execution_count": null,
   "id": "17b66e40-a4b8-42d1-b509-415b9f2084dc",
   "metadata": {},
   "outputs": [],
   "source": [
    "plt.bar(((bing_sent_orange_df_3.index+1)/number)*100, bing_sent_orange_df_3[\"overall_seg_score\"])\n",
    "plt.title(\"Bing Sentiment Analysis of \\n My Sweet Orange Tree\")\n",
    "plt.xlabel(\"Segment Position in Novel as % of Text\")\n",
    "plt.ylabel(\"Segment Sentiment\")"
   ]
  },
  {
   "cell_type": "code",
   "execution_count": null,
   "id": "d90e89e7-d3f3-4c26-91c2-c80b689124cd",
   "metadata": {},
   "outputs": [],
   "source": [
    "number = 100\n",
    "\n",
    "afinn_sent_results_orange_3 = segment_sentiments_afinn(tokens_orange[0:8000], number)\n",
    "\n",
    "afinn_sent_orange_df_3 = pd.DataFrame(afinn_sent_results_orange_3, columns = [\"seg_start\", \"seg_eng\", \"afinn_score\", \"pos=1\", \"pos=2\", \"pos=3\", \"pos=4\", \"pos=5\", \"neutral\", \"neg=-1\", \"neg=-2\", \"neg=-3\", \"neg=-4\", \"neg=-5\", \"word_list\"])\n",
    "\n",
    "afinn_sent_orange_df_3"
   ]
  },
  {
   "cell_type": "code",
   "execution_count": null,
   "id": "6e50b6d3-ba71-402e-be8f-a45fe5c11dad",
   "metadata": {},
   "outputs": [],
   "source": [
    "plt.plot(((afinn_sent_orange_df_3.index+1)/number)*100, afinn_sent_orange_df_3[\"neg=-1\"], label = \"-1\")\n",
    "plt.plot(((afinn_sent_orange_df_3.index+1)/number)*100, afinn_sent_orange_df_3[\"neg=-2\"], label = \"-2\")\n",
    "plt.plot(((afinn_sent_orange_df_3.index+1)/number)*100, afinn_sent_orange_df_3[\"neg=-3\"], label = \"-3\")\n",
    "#plt.plot(((afinn_sent_orange_df_3.index+1)/number)*100, afinn_sent_orange_df_3[\"pos=1\"], label = \"1\")\n",
    "#plt.plot(((afinn_sent_orange_df_3.index+1)/number)*100, afinn_sent_orange_df_3[\"pos=2\"], label = \"2\")\n",
    "#plt.plot(((afinn_sent_orange_df_3.index+1)/number)*100, afinn_sent_orange_df_3[\"neg=-4\"], label = \"-4\")\n",
    "#plt.plot(((afinn_sent_orange_df_3.index+1)/number)*100, afinn_sent_orange_df_3[\"neg=-5\"], label = \"-5\")\n",
    "plt.title(\"Analysis of Zeze's emotions with Totoca using Afinn Lexicon\")\n",
    "plt.xlabel(\"Segment Position in Novel as % of Text\")\n",
    "plt.ylabel(\"Segment Sentiment\")\n",
    "plt.legend()\n",
    "\n",
    "plt.savefig('plot_Afinn_totoca.png', dpi=300, bbox_inches='tight')"
   ]
  }
 ],
 "metadata": {
  "kernelspec": {
   "display_name": "Python 3 (ipykernel)",
   "language": "python",
   "name": "python3"
  },
  "language_info": {
   "codemirror_mode": {
    "name": "ipython",
    "version": 3
   },
   "file_extension": ".py",
   "mimetype": "text/x-python",
   "name": "python",
   "nbconvert_exporter": "python",
   "pygments_lexer": "ipython3",
   "version": "3.11.4"
  }
 },
 "nbformat": 4,
 "nbformat_minor": 5
}
